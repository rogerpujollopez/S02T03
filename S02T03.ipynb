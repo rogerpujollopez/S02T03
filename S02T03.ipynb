{
 "cells": [
  {
   "cell_type": "markdown",
   "id": "904f302d",
   "metadata": {},
   "source": [
    "# Exercici 1"
   ]
  },
  {
   "cell_type": "markdown",
   "id": "c1cc91ce",
   "metadata": {},
   "source": [
    "#### L'exercici consisteix a crear un programa que et classifiqui una variable numèrica en funció de l’escala Suspès/Aprovat/Notable/Excel·lent."
   ]
  },
  {
   "cell_type": "code",
   "execution_count": 8,
   "id": "70e34300",
   "metadata": {},
   "outputs": [
    {
     "name": "stdout",
     "output_type": "stream",
     "text": [
      "Excel.lent\n"
     ]
    }
   ],
   "source": [
    "nota=9\n",
    "\n",
    "if nota>=0 and nota<5:\n",
    "    print(\"Suspes\")\n",
    "elif nota>=5 and nota<6:\n",
    "    print(\"Aprovat\")\n",
    "elif nota>=6 and nota<8:\n",
    "    print(\"Notable\")\n",
    "elif nota>=8 and nota<=10:\n",
    "    print(\"Excel.lent\")\n",
    "else:\n",
    "    print(\"Nota no vàlida\")"
   ]
  },
  {
   "cell_type": "markdown",
   "id": "ad9413f5",
   "metadata": {},
   "source": [
    "# Exercici 2"
   ]
  },
  {
   "cell_type": "markdown",
   "id": "8221d4a6",
   "metadata": {},
   "source": [
    "#### Utilitzant el següent tutorial Programiz: Python Input, Output and Import crea un programa que et pregunti dos números. T’ha de mostrar un missatge dient si el primer és més gran, el segon és més gran o són iguals."
   ]
  },
  {
   "cell_type": "code",
   "execution_count": 26,
   "id": "e7669d90",
   "metadata": {},
   "outputs": [
    {
     "name": "stdout",
     "output_type": "stream",
     "text": [
      "Entra el primer nombre: 20\n",
      "Entra el segon nombre: 30\n",
      "El valor 20 es mes petit que 30\n"
     ]
    }
   ],
   "source": [
    "valor1=0\n",
    "valor2=0\n",
    "\n",
    "while True:\n",
    "    num = input('Entra el primer nombre: ')\n",
    "    if not num.isnumeric():\n",
    "        print(\"Valor no numeric\")\n",
    "    else:\n",
    "        valor1=int(num)\n",
    "        break\n",
    "\n",
    "while True:\n",
    "    num = input('Entra el segon nombre: ')\n",
    "    if not num.isnumeric():\n",
    "        print(\"Valor no numeric\")\n",
    "    else:\n",
    "        valor2=int(num)\n",
    "        break\n",
    "\n",
    "\n",
    "if valor1 == valor2:\n",
    "    print(\"Els dos valors son iguals, \" + str(valor1))\n",
    "elif valor1>valor2:    \n",
    "    print(\"El valor \" + str(valor1) + \"  es mes gran que \" + str(valor2))\n",
    "else:        \n",
    "    print(\"El valor \" + str(valor1) + \" es mes petit que \" + str(valor2))\n",
    "\n",
    "    "
   ]
  },
  {
   "cell_type": "markdown",
   "id": "5340ddba",
   "metadata": {},
   "source": [
    "# Exercici 3"
   ]
  },
  {
   "cell_type": "markdown",
   "id": "1be6d1f6",
   "metadata": {},
   "source": [
    "#### Crea un programa que et pregunti el teu nom, i et demani un número. Si el número és 0, hauria de mostrar un missatge d’error. En cas contrari, hauria de mostrar el nom repetit tants cops com indiqui el número. Per exemple, “Joan Joan Joan”."
   ]
  },
  {
   "cell_type": "code",
   "execution_count": 29,
   "id": "2c836505",
   "metadata": {},
   "outputs": [
    {
     "name": "stdout",
     "output_type": "stream",
     "text": [
      "Indica el teu nom: roger\n",
      "Número: 3\n",
      "roger roger roger \n"
     ]
    }
   ],
   "source": [
    "nom=\"\"\n",
    "\n",
    "while True:\n",
    "    nom = input('Indica el teu nom: ')\n",
    "    if nom.isnumeric():\n",
    "        print(\"No es un nom vàlid\")\n",
    "    else:\n",
    "        break\n",
    "\n",
    "while True:\n",
    "    num = input('Número: ')\n",
    "    if not num.isnumeric():\n",
    "        print(\"Valor no numeric\")\n",
    "    else:\n",
    "        break\n",
    "\n",
    "if num==0 :\n",
    "    print(\"El valor no pot ser 0\")\n",
    "else:\n",
    "    nom+=\" \"\n",
    "    print(nom*int(num))"
   ]
  },
  {
   "cell_type": "markdown",
   "id": "c380513f",
   "metadata": {},
   "source": [
    "# Exercici 4"
   ]
  },
  {
   "cell_type": "markdown",
   "id": "d626c750",
   "metadata": {},
   "source": [
    "#### Crea un programa que donada una llista qualsevol, et digui si es simètrica o no. Si ho és, que et digui quants elements té."
   ]
  },
  {
   "cell_type": "code",
   "execution_count": 38,
   "id": "519911de",
   "metadata": {},
   "outputs": [
    {
     "name": "stdout",
     "output_type": "stream",
     "text": [
      "[1, 2, 3, 4]\n",
      "[4, 3, 2, 1]\n",
      "No es simetrica\n"
     ]
    }
   ],
   "source": [
    "lista = [1, 2, 3, 4]\n",
    "lista2 = lista.copy()\n",
    "lista2.reverse()\n",
    "\n",
    "print(lista)\n",
    "print(lista2)\n",
    "\n",
    "if lista==lista2:\n",
    "    print(\"Es simetrica i te \" + str(len(lista)) + \" elements\")\n",
    "else:\n",
    "    print(\"No es simetrica\")\n"
   ]
  },
  {
   "cell_type": "markdown",
   "id": "595697df",
   "metadata": {},
   "source": [
    "# Exercici 5"
   ]
  },
  {
   "cell_type": "markdown",
   "id": "b64d269d",
   "metadata": {},
   "source": [
    "#### Crea un programa que donada una llista, et digui quants números coincideixen amb la seva posició. Per exemple [3,4,2,0,2,3,6] el 2 i el 6 coincideixen."
   ]
  },
  {
   "cell_type": "code",
   "execution_count": 41,
   "id": "33157494",
   "metadata": {},
   "outputs": [
    {
     "name": "stdout",
     "output_type": "stream",
     "text": [
      "2 6 \n"
     ]
    }
   ],
   "source": [
    "lista = [3,4,2,0,2,3,6]\n",
    "\n",
    "resultat=\"\"\n",
    "pos=0\n",
    "for idet in lista:\n",
    "    if idet==pos:\n",
    "        resultat+=str(idet)+ \" \"\n",
    "    pos+=1\n",
    "print(resultat)"
   ]
  }
 ],
 "metadata": {
  "kernelspec": {
   "display_name": "Python 3 (ipykernel)",
   "language": "python",
   "name": "python3"
  },
  "language_info": {
   "codemirror_mode": {
    "name": "ipython",
    "version": 3
   },
   "file_extension": ".py",
   "mimetype": "text/x-python",
   "name": "python",
   "nbconvert_exporter": "python",
   "pygments_lexer": "ipython3",
   "version": "3.9.12"
  }
 },
 "nbformat": 4,
 "nbformat_minor": 5
}
